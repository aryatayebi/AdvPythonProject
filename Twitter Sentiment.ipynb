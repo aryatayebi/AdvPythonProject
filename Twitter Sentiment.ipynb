{
 "cells": [
  {
   "cell_type": "code",
   "execution_count": null,
   "metadata": {},
   "outputs": [],
   "source": [
    "# !pip install textblob\n",
    "\n",
    "# !pip install tweepy\n",
    "\n",
    "# !pip install pycountry\n",
    "\n",
    "# !pip install wordcloud \n",
    "\n",
    "# !pip install langdetect"
   ]
  },
  {
   "cell_type": "code",
   "execution_count": 1,
   "metadata": {},
   "outputs": [],
   "source": [
    "from textblob import TextBlob\n",
    "import sys\n",
    "import tweepy\n",
    "import matplotlib.pyplot as plt\n",
    "import pandas as pd\n",
    "import numpy as np\n",
    "import os\n",
    "import nltk\n",
    "import pycountry\n",
    "import re\n",
    "import string\n",
    "from wordcloud import WordCloud, STOPWORDS\n",
    "from PIL import Image\n",
    "from nltk.sentiment.vader import SentimentIntensityAnalyzer\n",
    "from langdetect import detect\n",
    "from nltk.stem import SnowballStemmer\n",
    "from nltk.sentiment.vader import SentimentIntensityAnalyzer\n",
    "from sklearn.feature_extraction.text import CountVectorizer"
   ]
  },
  {
   "cell_type": "code",
   "execution_count": 18,
   "metadata": {},
   "outputs": [],
   "source": [
    "from datetime import timedelta"
   ]
  },
  {
   "cell_type": "code",
   "execution_count": null,
   "metadata": {},
   "outputs": [],
   "source": [
    "# import config\n",
    "# # put ur keys in a py file as a dictionary and import them so u can keep em secret\n",
    "# consumer_key = config.params['consumer_key'] #api key \n",
    "# consumer_secret = config.params['consumer_secret'] #api secret \n",
    "# access_token = config.params['access_token'] #access token  \n",
    "# access_token_secret = config.params['access_token_secret'] #access secret  \n",
    "# bear = config.params['bear'] #bearer token"
   ]
  },
  {
   "cell_type": "code",
   "execution_count": 2,
   "metadata": {},
   "outputs": [],
   "source": [
    "from keys import *"
   ]
  },
  {
   "cell_type": "code",
   "execution_count": 4,
   "metadata": {},
   "outputs": [
    {
     "data": {
      "text/html": [
       "<div>\n",
       "<style scoped>\n",
       "    .dataframe tbody tr th:only-of-type {\n",
       "        vertical-align: middle;\n",
       "    }\n",
       "\n",
       "    .dataframe tbody tr th {\n",
       "        vertical-align: top;\n",
       "    }\n",
       "\n",
       "    .dataframe thead th {\n",
       "        text-align: right;\n",
       "    }\n",
       "</style>\n",
       "<table border=\"1\" class=\"dataframe\">\n",
       "  <thead>\n",
       "    <tr style=\"text-align: right;\">\n",
       "      <th></th>\n",
       "      <th>0</th>\n",
       "    </tr>\n",
       "  </thead>\n",
       "  <tbody>\n",
       "    <tr>\n",
       "      <th>0</th>\n",
       "      <td>RT @NetsKingdomAJ: Pay Homage to a Brooklyn Ne...</td>\n",
       "    </tr>\n",
       "    <tr>\n",
       "      <th>1</th>\n",
       "      <td>RT @NutsAndBoltsSP: It was supposed to be Fina...</td>\n",
       "    </tr>\n",
       "    <tr>\n",
       "      <th>2</th>\n",
       "      <td>RT @NutsAndBoltsSP: It was supposed to be Fina...</td>\n",
       "    </tr>\n",
       "    <tr>\n",
       "      <th>3</th>\n",
       "      <td>It was supposed to be Finals our bust for the ...</td>\n",
       "    </tr>\n",
       "    <tr>\n",
       "      <th>4</th>\n",
       "      <td>By: Christopher Jordan\\n\\nWhat's next for the ...</td>\n",
       "    </tr>\n",
       "    <tr>\n",
       "      <th>...</th>\n",
       "      <td>...</td>\n",
       "    </tr>\n",
       "    <tr>\n",
       "      <th>95</th>\n",
       "      <td>RT @Nick_Fay_: NEW BROOKLYN BUZZ⚫️⚪️\\n\\n@JacMa...</td>\n",
       "    </tr>\n",
       "    <tr>\n",
       "      <th>96</th>\n",
       "      <td>The Brooklyn Nets have hired Ime Udoka to be t...</td>\n",
       "    </tr>\n",
       "    <tr>\n",
       "      <th>97</th>\n",
       "      <td>RT @EthosNets: With the season now (sadly) in ...</td>\n",
       "    </tr>\n",
       "    <tr>\n",
       "      <th>98</th>\n",
       "      <td>RT @Nick_Fay_: NEW BROOKLYN BUZZ⚫️⚪️\\n\\n@JacMa...</td>\n",
       "    </tr>\n",
       "    <tr>\n",
       "      <th>99</th>\n",
       "      <td>@AlperBicen En sevdiğim takım Brooklyn Nets. E...</td>\n",
       "    </tr>\n",
       "  </tbody>\n",
       "</table>\n",
       "<p>100 rows × 1 columns</p>\n",
       "</div>"
      ],
      "text/plain": [
       "                                                    0\n",
       "0   RT @NetsKingdomAJ: Pay Homage to a Brooklyn Ne...\n",
       "1   RT @NutsAndBoltsSP: It was supposed to be Fina...\n",
       "2   RT @NutsAndBoltsSP: It was supposed to be Fina...\n",
       "3   It was supposed to be Finals our bust for the ...\n",
       "4   By: Christopher Jordan\\n\\nWhat's next for the ...\n",
       "..                                                ...\n",
       "95  RT @Nick_Fay_: NEW BROOKLYN BUZZ⚫️⚪️\\n\\n@JacMa...\n",
       "96  The Brooklyn Nets have hired Ime Udoka to be t...\n",
       "97  RT @EthosNets: With the season now (sadly) in ...\n",
       "98  RT @Nick_Fay_: NEW BROOKLYN BUZZ⚫️⚪️\\n\\n@JacMa...\n",
       "99  @AlperBicen En sevdiğim takım Brooklyn Nets. E...\n",
       "\n",
       "[100 rows x 1 columns]"
      ]
     },
     "execution_count": 4,
     "metadata": {},
     "output_type": "execute_result"
    }
   ],
   "source": [
    "client = tweepy.Client(bearer_token=bearer_token,\\\n",
    "                       consumer_key = consumer_key,\\\n",
    "                       consumer_secret = consumer_secret,\\\n",
    "                       access_token = access_token,\\\n",
    "                       access_token_secret = access_token_secret)\n",
    "query = 'Brooklyn Nets'\n",
    "tweets = client.search_recent_tweets(query=query, max_results=100)\n",
    "tweet_list = []\n",
    "for tweet in tweets.data:\n",
    "    tweet_list.append(tweet.text)\n",
    "tweet_list = pd.DataFrame(tweet_list)\n",
    "tweet_list\n"
   ]
  },
  {
   "cell_type": "code",
   "execution_count": 43,
   "metadata": {},
   "outputs": [],
   "source": [
    "auth = tweepy.OAuthHandler(consumer_key, consumer_secret)\n",
    "auth.set_access_token(access_token, access_token_secret)\n",
    "\n",
    "api = tweepy.API(auth, wait_on_rate_limit=True)"
   ]
  },
  {
   "cell_type": "code",
   "execution_count": 41,
   "metadata": {},
   "outputs": [],
   "source": [
    "search_words = 'brooklyn'"
   ]
  },
  {
   "cell_type": "code",
   "execution_count": null,
   "metadata": {},
   "outputs": [],
   "source": [
    "api.search_tweets"
   ]
  },
  {
   "cell_type": "code",
   "execution_count": 53,
   "metadata": {},
   "outputs": [
    {
     "name": "stderr",
     "output_type": "stream",
     "text": [
      "Unexpected parameter: start_date\n"
     ]
    }
   ],
   "source": [
    "tweets_list = [[tweet.text, tweet.created_at, tweet.retweet_count, tweet.favorite_count] for tweet in tweets]"
   ]
  },
  {
   "cell_type": "code",
   "execution_count": 54,
   "metadata": {},
   "outputs": [
    {
     "data": {
      "text/plain": [
       "[['@libsoftiktok Why are snitching on people Chaya Raichik of Brooklyn Ny?',\n",
       "  datetime.datetime(2022, 5, 2, 18, 11, 17, tzinfo=datetime.timezone.utc),\n",
       "  0,\n",
       "  0],\n",
       " ['@shellyduarte10 Congratulation from Brooklyn, Sir !!',\n",
       "  datetime.datetime(2022, 5, 2, 18, 11, 15, tzinfo=datetime.timezone.utc),\n",
       "  0,\n",
       "  0],\n",
       " ['S8 of Brooklyn 99 😬',\n",
       "  datetime.datetime(2022, 5, 2, 18, 11, 8, tzinfo=datetime.timezone.utc),\n",
       "  0,\n",
       "  0],\n",
       " ['Im going to be in Brooklyn and DC for some shows in June. Come hangout. It will be a good time.… https://t.co/fAwZrBU0Uw',\n",
       "  datetime.datetime(2022, 5, 2, 18, 11, 1, tzinfo=datetime.timezone.utc),\n",
       "  0,\n",
       "  3],\n",
       " ['@barstoolsports This ain’t Brooklyn',\n",
       "  datetime.datetime(2022, 5, 2, 18, 11, 1, tzinfo=datetime.timezone.utc),\n",
       "  0,\n",
       "  0]]"
      ]
     },
     "execution_count": 54,
     "metadata": {},
     "output_type": "execute_result"
    }
   ],
   "source": [
    "tweets_list"
   ]
  },
  {
   "cell_type": "code",
   "execution_count": 28,
   "metadata": {},
   "outputs": [],
   "source": [
    "# pulling NBA game specific data\n",
    "\n",
    "df_data = pd.read_csv(\"nbaData.csv\").drop('Unnamed: 0', axis=1)\n",
    "df_odds = pd.read_csv(\"nbaOdds.csv\")\n",
    "df_results = pd.read_csv(\"nbaResults.csv\")"
   ]
  },
  {
   "cell_type": "code",
   "execution_count": 76,
   "metadata": {},
   "outputs": [
    {
     "data": {
      "text/plain": [
       "Timestamp('2022-04-28 22:00:00')"
      ]
     },
     "execution_count": 76,
     "metadata": {},
     "output_type": "execute_result"
    }
   ],
   "source": [
    "df_data.dateTime.iloc[36]"
   ]
  },
  {
   "cell_type": "code",
   "execution_count": 31,
   "metadata": {},
   "outputs": [],
   "source": [
    "df_data.dateTime = pd.to_datetime(df_data.dateTime)"
   ]
  },
  {
   "cell_type": "code",
   "execution_count": 77,
   "metadata": {},
   "outputs": [
    {
     "data": {
      "text/plain": [
       "__id__                  UTADAL4282022\n",
       "awayTeam             Dallas Mavericks\n",
       "gameState                       Final\n",
       "homeTeam                    Utah Jazz\n",
       "id                      UTADAL4282022\n",
       "sbId                            18043\n",
       "awayDiff                          2.0\n",
       "awayOutcome                         W\n",
       "dateTime          2022-04-28 22:00:00\n",
       "homeDiff                         -2.0\n",
       "homeOutcome                         L\n",
       "score                           96-98\n",
       "sport                             nba\n",
       "total                           194.0\n",
       "awayOdds                         -105\n",
       "awaySpread                       -1.0\n",
       "awaySpreadOdds                    100\n",
       "homeOdds                          105\n",
       "homeSpread                        1.0\n",
       "homeSpreadOdds                    100\n",
       "over                            210.5\n",
       "overOdds                          100\n",
       "under                           210.5\n",
       "underOdds                         100\n",
       "Name: 36, dtype: object"
      ]
     },
     "execution_count": 77,
     "metadata": {},
     "output_type": "execute_result"
    }
   ],
   "source": [
    "# running sentiment analysis for 1 game\n",
    "\n",
    "df_data.iloc[36]"
   ]
  },
  {
   "cell_type": "code",
   "execution_count": 33,
   "metadata": {},
   "outputs": [],
   "source": [
    "# import pytz\n",
    "# from datetime import datetime\n",
    "\n",
    "# game_datetime_end = datetime(game_datetime_end, tzinfo='US/Eastern')"
   ]
  },
  {
   "cell_type": "code",
   "execution_count": 86,
   "metadata": {},
   "outputs": [],
   "source": [
    "home_team = df_data.iloc[36]['homeTeam']\n",
    "away_team = df_data.iloc[36]['awayTeam']\n",
    "\n",
    "game_datetime = df_data.iloc[36]['dateTime']\n",
    "\n",
    "## Accounting for UTC conversion requred in tweet search\n",
    "\n",
    "game_datetime_end = game_datetime - timedelta(hours=7, minutes=0)\n",
    "game_datetime_start = game_datetime - timedelta(hours=12, minutes=0)"
   ]
  },
  {
   "cell_type": "code",
   "execution_count": 82,
   "metadata": {},
   "outputs": [],
   "source": [
    "# game_datetime_end\n",
    "\n",
    "# tweets = tweepy.Cursor(api.search_tweets,\n",
    "#               q=search_words,\n",
    "#               #since=game_datetime_start, \n",
    "#               until=game_datetime_end,\n",
    "#               lang=\"en\").items(5)\n",
    "\n",
    "# tweets_list = [[tweet.text, tweet.created_at, tweet.retweet_count, tweet.favorite_count] for tweet in tweets]\n",
    "\n",
    "# tweets_list"
   ]
  },
  {
   "cell_type": "code",
   "execution_count": 89,
   "metadata": {},
   "outputs": [
    {
     "data": {
      "text/plain": [
       "Timestamp('2022-04-28 15:00:00')"
      ]
     },
     "execution_count": 89,
     "metadata": {},
     "output_type": "execute_result"
    }
   ],
   "source": [
    "game_datetime_end"
   ]
  },
  {
   "cell_type": "code",
   "execution_count": 90,
   "metadata": {},
   "outputs": [
    {
     "data": {
      "text/plain": [
       "Timestamp('2022-04-28 10:00:00')"
      ]
     },
     "execution_count": 90,
     "metadata": {},
     "output_type": "execute_result"
    }
   ],
   "source": [
    "game_datetime_start"
   ]
  },
  {
   "cell_type": "code",
   "execution_count": 87,
   "metadata": {},
   "outputs": [
    {
     "data": {
      "text/html": [
       "<div>\n",
       "<style scoped>\n",
       "    .dataframe tbody tr th:only-of-type {\n",
       "        vertical-align: middle;\n",
       "    }\n",
       "\n",
       "    .dataframe tbody tr th {\n",
       "        vertical-align: top;\n",
       "    }\n",
       "\n",
       "    .dataframe thead th {\n",
       "        text-align: right;\n",
       "    }\n",
       "</style>\n",
       "<table border=\"1\" class=\"dataframe\">\n",
       "  <thead>\n",
       "    <tr style=\"text-align: right;\">\n",
       "      <th></th>\n",
       "      <th>0</th>\n",
       "    </tr>\n",
       "  </thead>\n",
       "  <tbody>\n",
       "    <tr>\n",
       "      <th>0</th>\n",
       "      <td>RT @Ratiothen22: Go on google and type Utah ja...</td>\n",
       "    </tr>\n",
       "    <tr>\n",
       "      <th>1</th>\n",
       "      <td>El equipo los necesita hoy. \\n\\nPor favor no n...</td>\n",
       "    </tr>\n",
       "    <tr>\n",
       "      <th>2</th>\n",
       "      <td>RT @All_Things_Mavs: this is literally what po...</td>\n",
       "    </tr>\n",
       "    <tr>\n",
       "      <th>3</th>\n",
       "      <td>2do regalo del día gente volvimos ala nba. Don...</td>\n",
       "    </tr>\n",
       "    <tr>\n",
       "      <th>4</th>\n",
       "      <td>RT @dalton_trigg: Google “Utah Jazz Owner.” Yo...</td>\n",
       "    </tr>\n",
       "    <tr>\n",
       "      <th>...</th>\n",
       "      <td>...</td>\n",
       "    </tr>\n",
       "    <tr>\n",
       "      <th>95</th>\n",
       "      <td>RT @dalton_trigg: Google “Utah Jazz Owner.” Yo...</td>\n",
       "    </tr>\n",
       "    <tr>\n",
       "      <th>96</th>\n",
       "      <td>RT @dalton_trigg: Google “Utah Jazz Owner.” Yo...</td>\n",
       "    </tr>\n",
       "    <tr>\n",
       "      <th>97</th>\n",
       "      <td>RT @dalton_trigg: Google “Utah Jazz Owner.” Yo...</td>\n",
       "    </tr>\n",
       "    <tr>\n",
       "      <th>98</th>\n",
       "      <td>https://t.co/HnNpfo9L52 Dallas Mavericks vs 22...</td>\n",
       "    </tr>\n",
       "    <tr>\n",
       "      <th>99</th>\n",
       "      <td>https://t.co/HnNpfo9L52 Asjp - 227's YouTube C...</td>\n",
       "    </tr>\n",
       "  </tbody>\n",
       "</table>\n",
       "<p>100 rows × 1 columns</p>\n",
       "</div>"
      ],
      "text/plain": [
       "                                                    0\n",
       "0   RT @Ratiothen22: Go on google and type Utah ja...\n",
       "1   El equipo los necesita hoy. \\n\\nPor favor no n...\n",
       "2   RT @All_Things_Mavs: this is literally what po...\n",
       "3   2do regalo del día gente volvimos ala nba. Don...\n",
       "4   RT @dalton_trigg: Google “Utah Jazz Owner.” Yo...\n",
       "..                                                ...\n",
       "95  RT @dalton_trigg: Google “Utah Jazz Owner.” Yo...\n",
       "96  RT @dalton_trigg: Google “Utah Jazz Owner.” Yo...\n",
       "97  RT @dalton_trigg: Google “Utah Jazz Owner.” Yo...\n",
       "98  https://t.co/HnNpfo9L52 Dallas Mavericks vs 22...\n",
       "99  https://t.co/HnNpfo9L52 Asjp - 227's YouTube C...\n",
       "\n",
       "[100 rows x 1 columns]"
      ]
     },
     "execution_count": 87,
     "metadata": {},
     "output_type": "execute_result"
    }
   ],
   "source": [
    "home_query = home_team\n",
    "tweets = client.search_recent_tweets(query=home_query, max_results=100, start_time=game_datetime_start, end_time=game_datetime_end)\n",
    "tweet_list = []\n",
    "for tweet in tweets.data:\n",
    "    tweet_list.append(tweet.text)\n",
    "tweet_list = pd.DataFrame(tweet_list)\n",
    "tweet_list"
   ]
  },
  {
   "cell_type": "code",
   "execution_count": 88,
   "metadata": {},
   "outputs": [
    {
     "name": "stdout",
     "output_type": "stream",
     "text": [
      "RT @Ratiothen22: Go on google and type Utah jazz owner 😂\n",
      "El equipo los necesita hoy. \n",
      "\n",
      "Por favor no nos decepcionen. \n",
      "\n",
      "¡VAMOS EL MONTAÑOSO UTAH JAZZ! #TakeNote https://t.co/ipSnsfThr3\n",
      "RT @All_Things_Mavs: this is literally what pops up when you Google “Utah Jazz Owner”\n",
      "\n",
      "search it right, see for yourself and reply with a s…\n",
      "2do regalo del día gente volvimos ala nba. Dond la kasa va a defender nuestra plata el día d hoy a forzar el 7m juego\n",
      "Utah jazz a ganar  defiende nuestro 2do regalo gente\n",
      "Delen RT https://t.co/rw6ZtOkzcf\n",
      "RT @dalton_trigg: Google “Utah Jazz Owner.” You’re welcome.\n",
      "No way google got jalen brunson as the utah jazz owner\n",
      "Dallas Mavericks vs. Utah Jazz - 4/28/22 Free Pick &amp; NBA Betting Prediction https://t.co/ruNzPiiMOb\n",
      ".\n",
      "#Betting #FreePicks https://t.co/Y2QU7IIpKk\n",
      "RT @dalton_trigg: Google “Utah Jazz Owner.” You’re welcome.\n",
      "RT @All_Things_Mavs: this is literally what pops up when you Google “Utah Jazz Owner”\n",
      "\n",
      "search it right, see for yourself and reply with a s…\n",
      "RT @dalton_trigg: Google “Utah Jazz Owner.” You’re welcome.\n",
      "Esse é outro que eu não tenho opinião formada. \n",
      "\n",
      "Fez um trabalho legal em Utah de modo geral, mas ultimamente tá complicado lá no Jazz. E outra, vale questionar também se o perfil do treinador encaixa com o que temos no elenco. + https://t.co/7wZFgGUBZ0\n",
      "Asjp - Utah Jazz (Prod. By OG) [Official Music Video] https://t.co/wdq4l2jNMZ\n",
      "RT @ivanbrunonarra: Hoje é dia de Mata-Mata da NBA na @band , são os Playoffs com o duelo Doncic x Mitchell.\n",
      "\n",
      "Logo após o @faustaonaband ,…\n",
      "RT @dalton_trigg: Google “Utah Jazz Owner.” You’re welcome.\n",
      "@DrGuru_ Basically all of Utah Jazz\n",
      "google \"utah jazz owner\"\n",
      "RT @Mavs_Brasil: Apenas pesquisem no Google \"Utah Jazz Owner\"! \n",
      "\n",
      "Postem o resultado aqui nos comentários! \n",
      "\n",
      "#MFFL https://t.co/EUNh51D4pw\n",
      "Where my #nba fans at?! Someone look up Utah jazz owner on google real quick ☠️☠️☠️☠️☠️☠️☠️\n",
      "RT @dalton_trigg: Google “Utah Jazz Owner.” You’re welcome.\n",
      "RT @Lynblanco5: Utah Jazz\n",
      "\n",
      "CRAZY KASINGKASING DAY\n",
      "#AnjiSalvacion || \n",
      "@anjisalvacion\n",
      "Translate Tweet\n",
      "RT @All_Things_Mavs: this is literally what pops up when you Google “Utah Jazz Owner”\n",
      "\n",
      "search it right, see for yourself and reply with a s…\n",
      "Utah Jazz\n",
      "\n",
      "CRAZY KASINGKASING DAY\n",
      "#AnjiSalvacion || \n",
      "@anjisalvacion\n",
      "Translate Tweet\n",
      "RT @UtahJazz6Man: It’s a beautiful day for the Utah Jazz to extend my false hope into a Game 7.\n",
      "Dallas #Mavericks at Utah Jazz Game 6 odds, picks and predictions - USA TODAY Sportsbook Wire https://t.co/tooTSOZgYh\n",
      "Well Utah jazz has a new owner of the team... great buy jalen https://t.co/B4u1xYLpme\n",
      "RT @dalton_trigg: Google “Utah Jazz Owner.” You’re welcome.\n",
      "RT @dalton_trigg: Google “Utah Jazz Owner.” You’re welcome.\n",
      "NBA Leader: 28.4 PPG The Monty Show: Changes Are Coming To The Utah Jazz https://t.co/FENj6CdH2g https://t.co/DGOBYSBHVf\n",
      "Apparently if you Google Utah Jazz owner, there’s been a change in leadership 😂\n",
      "Well done, well done.\n",
      "RT @DLocke09: LOCKED ON JAZZ -  Can the Utah Jazz extend their season with a Game 6 win vs. Luka Doncic and the Mavericks - https://t.co/Sy…\n",
      "2019 20 NBA HOOPS INK DONOVAN MITCH #thehobby https://t.co/enBw1k25V9\n",
      "RT @dalton_trigg: Google “Utah Jazz Owner.” You’re welcome.\n",
      "RT @NBACobwebs: April 28, 1985: Houston Rockets rookie Akeem Olajuwon smacks Utah's Billy Paultz in the face late in the series-deciding Ga…\n",
      "RT @dalton_trigg: Google “Utah Jazz Owner.” You’re welcome.\n",
      "RT @All_Things_Mavs: this is literally what pops up when you Google “Utah Jazz Owner”\n",
      "\n",
      "search it right, see for yourself and reply with a s…\n",
      "Ohh Shit Jalen Brunson Really pops up as the Utah Jazz Owner In Google Search bar🔥🔥🔥🔥 #MFFL #dALLasIN #GamblingTwitter https://t.co/b1TdWiKyFp\n",
      "Search up the owner of the Utah Jazz\n",
      "search up “Utah Jazz Owner” on google\n",
      "@lynziekate Good morning and soon to be good night for the Utah Jazz franchise\n",
      "RT @All_Things_Mavs: this is literally what pops up when you Google “Utah Jazz Owner”\n",
      "\n",
      "search it right, see for yourself and reply with a s…\n",
      "RT @All_Things_Mavs: this is literally what pops up when you Google “Utah Jazz Owner”\n",
      "\n",
      "search it right, see for yourself and reply with a s…\n",
      "RT @All_Things_Mavs: this is literally what pops up when you Google “Utah Jazz Owner”\n",
      "\n",
      "search it right, see for yourself and reply with a s…\n",
      "RT @All_Things_Mavs: this is literally what pops up when you Google “Utah Jazz Owner”\n",
      "\n",
      "search it right, see for yourself and reply with a s…\n",
      "Quelli sui jazz soprattutto l'antibasket peggio degli utah jazz stessi\n",
      "RT @All_Things_Mavs: this is literally what pops up when you Google “Utah Jazz Owner”\n",
      "\n",
      "search it right, see for yourself and reply with a s…\n",
      "RT @dalton_trigg: Google “Utah Jazz Owner.” You’re welcome.\n",
      "RT @All_Things_Mavs: this is literally what pops up when you Google “Utah Jazz Owner”\n",
      "\n",
      "search it right, see for yourself and reply with a s…\n",
      "RT @dalton_trigg: Google “Utah Jazz Owner.” You’re welcome.\n",
      "RT @All_Things_Mavs: this is literally what pops up when you Google “Utah Jazz Owner”\n",
      "\n",
      "search it right, see for yourself and reply with a s…\n",
      "RT @All_Things_Mavs: this is literally what pops up when you Google “Utah Jazz Owner”\n",
      "\n",
      "search it right, see for yourself and reply with a s…\n",
      "RT @Ratiothen22: Go on google and type Utah jazz owner 😂\n",
      "RT @All_Things_Mavs: this is literally what pops up when you Google “Utah Jazz Owner”\n",
      "\n",
      "search it right, see for yourself and reply with a s…\n",
      "RT @davidjsmith1232: I don't see Ben Simmons getting traded again this offseason. Too much uncertainty and risk for teams.\n",
      "\n",
      "Perhaps someone…\n",
      "RT @All_Things_Mavs: this is literally what pops up when you Google “Utah Jazz Owner”\n",
      "\n",
      "search it right, see for yourself and reply with a s…\n",
      "RT @All_Things_Mavs: this is literally what pops up when you Google “Utah Jazz Owner”\n",
      "\n",
      "search it right, see for yourself and reply with a s…\n",
      "this is literally what pops up when you Google “Utah Jazz Owner”\n",
      "\n",
      "search it right, see for yourself and reply with a screenshot\n",
      "\n",
      "#MFFL #DALLASIN https://t.co/WwyjINGzql\n",
      "RT @NBACobwebs: April 28, 1985: Houston Rockets rookie Akeem Olajuwon smacks Utah's Billy Paultz in the face late in the series-deciding Ga…\n",
      "@TommySledge @rjchoppy @1053SS  Google Utah Jazz owner\n",
      "NBA Leader: 28.4 PPG How Can the Utah Jazz Extend the Series vs the Dallas Mavericks? | Mavs + Jazz Crossover https://t.co/oECJYAjdGS https://t.co/DGOBYSBHVf\n",
      "Manifesting a Utah Jazz win tonight\n",
      "RT @Ratiothen22: Go on google and type Utah jazz owner 😂\n",
      "RT @dalton_trigg: Google “Utah Jazz Owner.” You’re welcome.\n",
      "RT @NBACobwebs: April 28, 1985: Houston Rockets rookie Akeem Olajuwon smacks Utah's Billy Paultz in the face late in the series-deciding Ga…\n",
      "RT @ByTimReynolds: The Utah Jazz have placed Keyon Dooling on administrative leave after he was charged earlier today by federal officials…\n",
      "Things to do today:\n",
      "- Watch Luka Doncic eliminate Utah Jazz\n",
      "Hoje é dia de Mata-Mata da NBA na @band , são os Playoffs com o duelo Doncic x Mitchell.\n",
      "\n",
      "Logo após o @faustaonaband , narro Dallas Mavericks x Utah Jazz. O Mavs lidera a série por 3 a 2.\n",
      "\n",
      "Comigo e o Super Big Three: @alvarojosetv @eduardobarao e @Danilo0014 .\n",
      "\n",
      "#NBAnaBand https://t.co/m0HOyMX7UX\n",
      "Just Googled “Utah Jazz Owner” and this came up. 💀😂 #TakeNote https://t.co/EwCCdjW39F\n",
      "https://t.co/HnNpfo9L52 The Monty Show: Changes Are Coming To The 227's YouTube Chili' Utah Chili' Jazz #TakeNote Spicy' https://t.co/Yohykb5c5p https://t.co/V0vhTXSooA Spicy' NBA Mix! https://t.co/FENj6CdH2g https://t.co/v6vxXFGGY0\n",
      "Mavericks at Jazz 4/28/22 - NBA Picks &amp; Odds https://t.co/0TBoSR1rn8 #PicksParlays #TakeNote #MFFL https://t.co/XHgUUvKmiJ\n",
      "RT @dalton_trigg: Google “Utah Jazz Owner.” You’re welcome.\n",
      "RT @dalton_trigg: Google “Utah Jazz Owner.” You’re welcome.\n",
      "RT @Ratiothen22: Go on google and type Utah jazz owner 😂\n",
      "RT @RTNBA: Utah Jazz have a new owner. 😂 https://t.co/PZzD6vFLgg\n",
      "RT @MavsFansForLife: It’s Game Day! #dALLasIN   \n",
      "Dallas Mavericks vs Utah Jazz\n",
      "Salt Lake City, UT - 9:00pm CT\n",
      "\n",
      "Game 6: Mavs lead series 3-2…\n",
      "RT @KUER: A major renewable energy project in central Utah just got a $500 million conditional loan guarantee from the Department of Energy…\n",
      "RT @leiemcampo: Multa aplicada pela NBA ao pivô Rudy Gobert, do Utah Jazz, por palavrão em entrevista gera debate.\n",
      "\n",
      "Via @leiemcampo\n",
      "Por @ga…\n",
      "joguem utah jazz owner no google\n",
      "@BLMUtah Utah Jazz assistant coach Keyon Dooling has been arrested in a fraud case. @utahjazz placed him on paid administrative leave after learning of the indictment. @ap https://t.co/4Omh44MWF9\n",
      "RT @dalton_trigg: Google “Utah Jazz Owner.” You’re welcome.\n",
      "Hey GARLAND.. can you focus on the felon who is ruining our country? Many counts to arrest with\n",
      "\n",
      "https://t.co/W4kUBCjvq7\n",
      "@18Hawse Actually look up Utah Jazz owner\n",
      "A major renewable energy project in central Utah just got a $500 million conditional loan guarantee from the Department of Energy. #MillardCountyUT https://t.co/4Omh44MWF9\n",
      "RT @dalton_trigg: Google “Utah Jazz Owner.” You’re welcome.\n",
      "April 28, 1985: Houston Rockets rookie Akeem Olajuwon smacks Utah's Billy Paultz in the face late in the series-deciding Game 5.\n",
      "\n",
      "Paultz was part of a platoon of big men filling in for injured center Mark Eaton. The Jazz won, 104-97, and advanced to the Western Conference Semis. https://t.co/k7wIqEax2C\n",
      "RT @AGdeportesNews: #AGNBA 🏀 | PARTIDO 6\n",
      "\n",
      "🔴 Utah #Jazz vs. Dallas Mavericks 🔴\n",
      "\n",
      "🏟 Vivint Smart Home Arena\n",
      "\n",
      "👉 @dallasmavs lidera la serie 3-2\n",
      "Too bad Donovan Mitchell might be playing his last game with the Jazz tonight. I just realized he could've gone by \"Donny Utah\" this whole time! #TakeNote https://t.co/EF9o9zp4zL\n",
      "Dallas Mavericks vs Utah Jazz NBA Pick and Prediction NBA Betting Tips 4... https://t.co/FHYRPXEOtg via @YouTube #NBA #NBAPick #NBAPredictions #NBAOdds #Mavericks #Jazz #MavericksVsJazz\n",
      "GAMEDAY\n",
      "\n",
      "JOGO 6!!!!!!!!!!!!!!!\n",
      "\n",
      "🆚 Utah Jazz\n",
      "🏟️ Vivint Arena, Utah\n",
      "⌚ 23:00 🇧🇷\n",
      "📺 SporTV, Gaules, TNT Sports, Band\n",
      "\n",
      "É DIA DE PASSAR PRO SEGUNDO ROUND 😤😤😤😤😤😤\n",
      "\n",
      "#MFFL\n",
      "#dALLasIN https://t.co/eWsSdJNzKl\n",
      "RT @dalton_trigg: Google “Utah Jazz Owner.” You’re welcome.\n",
      "RT @BonDoingNumbers: Basketball Gods, please and the Utah Jazz home tonight \n",
      "\n",
      "-Sincerely, all Knicks fans\n",
      "RT @birdiebirdieee: google “utah jazz owner” for a surprise (:\n",
      "Hoy si Utah Jazz queda eliminado, esta cuenta estará de celebración, además Luka ganaría su primera ronda en play offs, todo es felicidad.\n",
      "@Joeingles7 Joe google \"Utah Jazz owner\" trust me\n",
      "jalen brunson the owner of the utah jazz 💀\n",
      "RT @mavsdatristeza: HOJE TEM DALLAS MAVERICKS!!!!!!!\n",
      "\n",
      "⚔️Utah Jazz\n",
      "🏆6º Jogo da primeira rodada dos Playoffs \n",
      "⏰ 23h00🇧🇷\n",
      "📍Vivint Arena, Salt L…\n",
      "RT @dalton_trigg: Google “Utah Jazz Owner.” You’re welcome.\n",
      "RT @dalton_trigg: Google “Utah Jazz Owner.” You’re welcome.\n",
      "RT @dalton_trigg: Google “Utah Jazz Owner.” You’re welcome.\n",
      "https://t.co/HnNpfo9L52 Dallas Mavericks vs 227's YouTube Chili' Utah Chili' Jazz #TakeNote Spicy' https://t.co/Yohykb5c5p https://t.co/V0vhTXSooA Spicy' NBA Mix! NBA Pick and Prediction NBA Betting Tips 4/28/2022 https://t.co/SEu8xp2D0f https://t.co/v6vxXFGGY0\n",
      "https://t.co/HnNpfo9L52 Asjp - 227's YouTube Chili' Utah Chili' Jazz #TakeNote Spicy' https://t.co/Yohykb5c5p https://t.co/V0vhTXSooA Spicy' NBA Mix! (Prod. By OG) [Official Music Video] https://t.co/VDiN0Q0nnR https://t.co/v6vxXFGGY0\n"
     ]
    }
   ],
   "source": [
    "for item in tweet_list[0]:\n",
    "    print (item)"
   ]
  }
 ],
 "metadata": {
  "kernelspec": {
   "display_name": "Python 3 (ipykernel)",
   "language": "python",
   "name": "python3"
  },
  "language_info": {
   "codemirror_mode": {
    "name": "ipython",
    "version": 3
   },
   "file_extension": ".py",
   "mimetype": "text/x-python",
   "name": "python",
   "nbconvert_exporter": "python",
   "pygments_lexer": "ipython3",
   "version": "3.9.7"
  }
 },
 "nbformat": 4,
 "nbformat_minor": 4
}
