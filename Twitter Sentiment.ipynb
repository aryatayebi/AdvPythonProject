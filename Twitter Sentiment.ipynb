{
 "cells": [
  {
   "cell_type": "code",
   "execution_count": null,
   "metadata": {},
   "outputs": [],
   "source": [
    "!pip install textblob"
   ]
  },
  {
   "cell_type": "code",
   "execution_count": null,
   "metadata": {},
   "outputs": [],
   "source": [
    "!pip install tweepy"
   ]
  },
  {
   "cell_type": "code",
   "execution_count": null,
   "metadata": {},
   "outputs": [],
   "source": [
    "!pip install pycountry"
   ]
  },
  {
   "cell_type": "code",
   "execution_count": null,
   "metadata": {},
   "outputs": [],
   "source": [
    "!pip install wordcloud "
   ]
  },
  {
   "cell_type": "code",
   "execution_count": null,
   "metadata": {},
   "outputs": [],
   "source": [
    "!pip install langdetect"
   ]
  },
  {
   "cell_type": "code",
   "execution_count": 34,
   "metadata": {},
   "outputs": [],
   "source": [
    "from textblob import TextBlob\n",
    "import sys\n",
    "import tweepy\n",
    "import matplotlib.pyplot as plt\n",
    "import pandas as pd\n",
    "import numpy as np\n",
    "import os\n",
    "import nltk\n",
    "import pycountry\n",
    "import re\n",
    "import string\n",
    "from wordcloud import WordCloud, STOPWORDS\n",
    "from PIL import Image\n",
    "from nltk.sentiment.vader import SentimentIntensityAnalyzer\n",
    "from langdetect import detect\n",
    "from nltk.stem import SnowballStemmer\n",
    "from nltk.sentiment.vader import SentimentIntensityAnalyzer\n",
    "from sklearn.feature_extraction.text import CountVectorizer"
   ]
  },
  {
   "cell_type": "code",
   "execution_count": 35,
   "metadata": {},
   "outputs": [],
   "source": [
    "import config\n",
    "# put ur keys in a py file as a dictionary and import them so u can keep em secret\n",
    "consumer_key = config.params['consumer_key'] #api key \n",
    "consumer_secret = config.params['consumer_secret'] #api secret \n",
    "access_token = config.params['access_token'] #access token  \n",
    "access_token_secret = config.params['access_token_secret'] #access secret  \n",
    "bear = config.params['bear'] #bearer token"
   ]
  },
  {
   "cell_type": "code",
   "execution_count": 36,
   "metadata": {},
   "outputs": [
    {
     "data": {
      "text/html": [
       "<div>\n",
       "<style scoped>\n",
       "    .dataframe tbody tr th:only-of-type {\n",
       "        vertical-align: middle;\n",
       "    }\n",
       "\n",
       "    .dataframe tbody tr th {\n",
       "        vertical-align: top;\n",
       "    }\n",
       "\n",
       "    .dataframe thead th {\n",
       "        text-align: right;\n",
       "    }\n",
       "</style>\n",
       "<table border=\"1\" class=\"dataframe\">\n",
       "  <thead>\n",
       "    <tr style=\"text-align: right;\">\n",
       "      <th></th>\n",
       "      <th>0</th>\n",
       "    </tr>\n",
       "  </thead>\n",
       "  <tbody>\n",
       "    <tr>\n",
       "      <th>0</th>\n",
       "      <td>@chopchop2115 @ProFootballDoc @NFL Asking the ...</td>\n",
       "    </tr>\n",
       "    <tr>\n",
       "      <th>1</th>\n",
       "      <td>@BaldyNFL @dallascowboys Thanks for your insig...</td>\n",
       "    </tr>\n",
       "    <tr>\n",
       "      <th>2</th>\n",
       "      <td>RT @RedditCFB: Mack Brown’s final year feature...</td>\n",
       "    </tr>\n",
       "    <tr>\n",
       "      <th>3</th>\n",
       "      <td>RT @espn: Which team that selected a QB on Day...</td>\n",
       "    </tr>\n",
       "    <tr>\n",
       "      <th>4</th>\n",
       "      <td>Perfis em destaque:\\n#bourguignon_08\\n#piadas_...</td>\n",
       "    </tr>\n",
       "    <tr>\n",
       "      <th>...</th>\n",
       "      <td>...</td>\n",
       "    </tr>\n",
       "    <tr>\n",
       "      <th>95</th>\n",
       "      <td>RT @thepiff: Just bringing the ✨magic✨ to the ...</td>\n",
       "    </tr>\n",
       "    <tr>\n",
       "      <th>96</th>\n",
       "      <td>RT @TheMozKnowz: .@DrewJRosenhaus tells me he ...</td>\n",
       "    </tr>\n",
       "    <tr>\n",
       "      <th>97</th>\n",
       "      <td>@HuskiesRock2020 @WestCoastCFB So, you're clai...</td>\n",
       "    </tr>\n",
       "    <tr>\n",
       "      <th>98</th>\n",
       "      <td>RT @johnpboyle: The #Seahawks \"attacked some n...</td>\n",
       "    </tr>\n",
       "    <tr>\n",
       "      <th>99</th>\n",
       "      <td>The University of Georgia has broken an NFL re...</td>\n",
       "    </tr>\n",
       "  </tbody>\n",
       "</table>\n",
       "<p>100 rows × 1 columns</p>\n",
       "</div>"
      ],
      "text/plain": [
       "                                                    0\n",
       "0   @chopchop2115 @ProFootballDoc @NFL Asking the ...\n",
       "1   @BaldyNFL @dallascowboys Thanks for your insig...\n",
       "2   RT @RedditCFB: Mack Brown’s final year feature...\n",
       "3   RT @espn: Which team that selected a QB on Day...\n",
       "4   Perfis em destaque:\\n#bourguignon_08\\n#piadas_...\n",
       "..                                                ...\n",
       "95  RT @thepiff: Just bringing the ✨magic✨ to the ...\n",
       "96  RT @TheMozKnowz: .@DrewJRosenhaus tells me he ...\n",
       "97  @HuskiesRock2020 @WestCoastCFB So, you're clai...\n",
       "98  RT @johnpboyle: The #Seahawks \"attacked some n...\n",
       "99  The University of Georgia has broken an NFL re...\n",
       "\n",
       "[100 rows x 1 columns]"
      ]
     },
     "execution_count": 36,
     "metadata": {},
     "output_type": "execute_result"
    }
   ],
   "source": [
    "client = tweepy.Client(bearer_token=bear,\\\n",
    "                       consumer_key = consumer_key,\\\n",
    "                       consumer_secret = consumer_secret,\\\n",
    "                       access_token = access_token,\\\n",
    "                       access_token_secret = access_token_secret)\n",
    "query = 'NFL'\n",
    "tweets = client.search_recent_tweets(query=query, max_results=100)\n",
    "tweet_list = []\n",
    "for tweet in tweets.data:\n",
    "    tweet_list.append(tweet.text)\n",
    "tweet_list = pd.DataFrame(tweet_list)\n",
    "tweet_list\n"
   ]
  }
 ],
 "metadata": {
  "kernelspec": {
   "display_name": "Python 3",
   "language": "python",
   "name": "python3"
  },
  "language_info": {
   "codemirror_mode": {
    "name": "ipython",
    "version": 3
   },
   "file_extension": ".py",
   "mimetype": "text/x-python",
   "name": "python",
   "nbconvert_exporter": "python",
   "pygments_lexer": "ipython3",
   "version": "3.8.5"
  }
 },
 "nbformat": 4,
 "nbformat_minor": 4
}
