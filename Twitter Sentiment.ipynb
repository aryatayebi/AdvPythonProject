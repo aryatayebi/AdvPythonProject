{
 "cells": [
  {
   "cell_type": "code",
   "execution_count": 1,
   "metadata": {},
   "outputs": [],
   "source": [
    "# !pip install textblob\n",
    "\n",
    "# !pip install tweepy\n",
    "\n",
    "# !pip install pycountry\n",
    "\n",
    "# !pip install wordcloud \n",
    "\n",
    "# !pip install langdetect"
   ]
  },
  {
   "cell_type": "code",
   "execution_count": 19,
   "metadata": {},
   "outputs": [
    {
     "name": "stderr",
     "output_type": "stream",
     "text": [
      "[nltk_data] Downloading package vader_lexicon to\n",
      "[nltk_data]     /Users/farrisatif/nltk_data...\n"
     ]
    },
    {
     "data": {
      "text/plain": [
       "True"
      ]
     },
     "execution_count": 19,
     "metadata": {},
     "output_type": "execute_result"
    }
   ],
   "source": [
    "import nltk\n",
    "nltk.download('vader_lexicon')"
   ]
  },
  {
   "cell_type": "code",
   "execution_count": 2,
   "metadata": {},
   "outputs": [],
   "source": [
    "from textblob import TextBlob\n",
    "import sys\n",
    "import tweepy\n",
    "import matplotlib.pyplot as plt\n",
    "import pandas as pd\n",
    "import numpy as np\n",
    "import os\n",
    "import nltk\n",
    "import pycountry\n",
    "import re\n",
    "import string\n",
    "from wordcloud import WordCloud, STOPWORDS\n",
    "from PIL import Image\n",
    "from nltk.sentiment.vader import SentimentIntensityAnalyzer\n",
    "from langdetect import detect\n",
    "from nltk.stem import SnowballStemmer\n",
    "from nltk.sentiment.vader import SentimentIntensityAnalyzer\n",
    "from sklearn.feature_extraction.text import CountVectorizer"
   ]
  },
  {
   "cell_type": "code",
   "execution_count": 3,
   "metadata": {},
   "outputs": [],
   "source": [
    "from datetime import timedelta\n",
    "import datetime\n",
    "import pytz"
   ]
  },
  {
   "cell_type": "code",
   "execution_count": 4,
   "metadata": {},
   "outputs": [],
   "source": [
    "# import config\n",
    "# # put ur keys in a py file as a dictionary and import them so u can keep em secret\n",
    "# consumer_key = config.params['consumer_key'] #api key \n",
    "# consumer_secret = config.params['consumer_secret'] #api secret \n",
    "# access_token = config.params['access_token'] #access token  \n",
    "# access_token_secret = config.params['access_token_secret'] #access secret  \n",
    "# bear = config.params['bear'] #bearer token"
   ]
  },
  {
   "cell_type": "code",
   "execution_count": 6,
   "metadata": {},
   "outputs": [],
   "source": [
    "# refer to repo .README for necessary format for keys.py\n",
    "\n",
    "from keys import *"
   ]
  },
  {
   "cell_type": "code",
   "execution_count": 7,
   "metadata": {},
   "outputs": [],
   "source": [
    "client = tweepy.Client(bearer_token=bearer_token,\\\n",
    "                       consumer_key = consumer_key,\\\n",
    "                       consumer_secret = consumer_secret,\\\n",
    "                       access_token = access_token,\\\n",
    "                       access_token_secret = access_token_secret)"
   ]
  },
  {
   "cell_type": "code",
   "execution_count": 8,
   "metadata": {},
   "outputs": [],
   "source": [
    "auth = tweepy.OAuthHandler(consumer_key, consumer_secret)\n",
    "auth.set_access_token(access_token, access_token_secret)\n",
    "\n",
    "api = tweepy.API(auth, wait_on_rate_limit=True)"
   ]
  },
  {
   "cell_type": "code",
   "execution_count": 9,
   "metadata": {},
   "outputs": [],
   "source": [
    "# tweets = tweepy.Cursor(api.search_tweets, 'warriors',\n",
    "#                        lang=\"en\", start_date=game_datetime_start, until=game_datetime_end).items(10)\n",
    "\n",
    "# print ([tweet for tweet in tweets])"
   ]
  },
  {
   "cell_type": "code",
   "execution_count": 13,
   "metadata": {},
   "outputs": [],
   "source": [
    "# pulling NBA game specific data\n",
    "\n",
    "df_data = pd.read_csv(\"finalNbaData.csv\").drop('Unnamed: 0', axis=1)\n",
    "# df_odds = pd.read_csv(\"playoffOdds.csv\")\n",
    "# df_results = pd.read_csv(\"playoffResults.csv\")\n",
    "\n",
    "df_data.dateTime = pd.to_datetime(df_data.dateTime)\n",
    "\n",
    "utc=pytz.UTC\n",
    "weekPriorDate = datetime.datetime.now() - timedelta(days=6)\n",
    "weekPriorDate = utc.localize(weekPriorDate) \n",
    "\n",
    "df_data.dateTime = df_data.dateTime.apply(lambda x: x.replace(tzinfo=None))\n",
    "\n",
    "# pulling games that occur within 1 week of today's date\n",
    "\n",
    "study_games = df_data[df_data.dateTime > weekPriorDate.replace(tzinfo=None)].__id__.unique()"
   ]
  },
  {
   "cell_type": "code",
   "execution_count": 14,
   "metadata": {},
   "outputs": [
    {
     "data": {
      "text/plain": [
       "array(['BOSMIL512022', 'BOSMIL532022', 'MEMGS512022', 'MEMGS532022',\n",
       "       'MIAPHI522022', 'MIAPHI542022', 'PHODAL522022', 'PHODAL542022'],\n",
       "      dtype=object)"
      ]
     },
     "execution_count": 14,
     "metadata": {},
     "output_type": "execute_result"
    }
   ],
   "source": [
    "study_games"
   ]
  },
  {
   "cell_type": "code",
   "execution_count": 15,
   "metadata": {
    "scrolled": true,
    "tags": []
   },
   "outputs": [],
   "source": [
    "# for tweet in tweepy.Paginator(client.search_recent_tweets, query='Warriors',\n",
    "#                               tweet_fields=['lang', 'created_at'], max_results=100, start_time=game_datetime_start, end_time=game_datetime_end).flatten(limit=1000):\n",
    "#     print(tweet.id)"
   ]
  },
  {
   "cell_type": "code",
   "execution_count": 16,
   "metadata": {},
   "outputs": [],
   "source": [
    "# tweets = client.search_recent_tweets(query=home_team, max_results=100, start_time=game_datetime_start, end_time=game_datetime_end, tweet_fields='lang')"
   ]
  },
  {
   "cell_type": "code",
   "execution_count": 17,
   "metadata": {},
   "outputs": [],
   "source": [
    "def percentage(part,whole):\n",
    "    return 100 * float(part)/float(whole)\n",
    "\n",
    "def clean_tweets(tweet_list):\n",
    "    tweet_list = [re.sub('RT @\\w+: ',\" \",x) for x in tweet_list]\n",
    "    tweet_list = [re.sub(\"(@[A-Za-z0-9]+)|([^0-9A-Za-z \\t])|(\\w+:\\/\\/\\S+)\",\" \",x) for x in tweet_list]\n",
    "    tweet_list = [x.lower() for x in tweet_list]\n",
    "    return tweet_list"
   ]
  },
  {
   "cell_type": "code",
   "execution_count": 20,
   "metadata": {
    "scrolled": true,
    "tags": []
   },
   "outputs": [
    {
     "name": "stdout",
     "output_type": "stream",
     "text": [
      "BOSMIL512022 Boston Celtics Milwaukee Bucks\n",
      "BOSMIL532022 Boston Celtics Milwaukee Bucks\n",
      "MEMGS512022 Memphis Grizzlies Golden State Warriors\n",
      "MEMGS532022 Memphis Grizzlies Golden State Warriors\n",
      "MIAPHI522022 Miami Heat Philadelphia 76ers\n",
      "MIAPHI542022 Miami Heat Philadelphia 76ers\n",
      "PHODAL522022 Phoenix Suns Dallas Mavericks\n",
      "PHODAL542022 Phoenix Suns Dallas Mavericks\n"
     ]
    }
   ],
   "source": [
    "sentiment_results = pd.DataFrame(columns=['gameID', 'homeTeam', 'awayTeam','homePositive', 'homeNegative', 'homeNeutral', 'awayPositive', 'awayNegative', 'awayNeutral', 'total_tweets_analyzed'])\n",
    "search_limit = 500\n",
    "\n",
    "for game_id in study_games:\n",
    "    df = df_data[df_data.__id__ == game_id]\n",
    "    home_team = df['homeTeam'].values[0]\n",
    "    away_team = df['awayTeam'].values[0]\n",
    "\n",
    "    game_datetime = pd.to_datetime(df['dateTime'].values[0])\n",
    "    game_datetime_end = game_datetime\n",
    "    game_datetime_start = game_datetime - timedelta(hours=5, minutes=0)\n",
    "    \n",
    "    \n",
    "    print (game_id, home_team, away_team)\n",
    "    \n",
    "    # home tweets\n",
    "    home_tweet_list = []\n",
    "    home_negative = 0\n",
    "    home_positive = 0\n",
    "    home_neutral = 0\n",
    "    \n",
    "    for tweet in tweepy.Paginator(client.search_recent_tweets, query=home_team,\n",
    "                              tweet_fields=['lang', 'created_at'], max_results=100, start_time=game_datetime_start, end_time=game_datetime_end).flatten(limit=search_limit):\n",
    "\n",
    "        if tweet.lang == 'en':\n",
    "            home_tweet_list.append(tweet.text)\n",
    "     \n",
    "    home_tweet_count = len(set(home_tweet_list))\n",
    "    \n",
    "    for tweet in clean_tweets(list(set(home_tweet_list))):\n",
    "        score = SentimentIntensityAnalyzer().polarity_scores(tweet)\n",
    "        neg = score['neg']\n",
    "        neu = score['neu']\n",
    "        pos = score['pos']\n",
    "\n",
    "        if neg > pos:\n",
    "            home_negative += 1\n",
    "        elif pos > neg:\n",
    "            home_positive += 1\n",
    "        elif pos == neg:\n",
    "            home_neutral += 1\n",
    "    \n",
    "    # away tweets\n",
    "    away_tweet_list = []\n",
    "    away_negative = 0\n",
    "    away_positive = 0\n",
    "    away_neutral = 0\n",
    "    \n",
    "    for tweet in tweepy.Paginator(client.search_recent_tweets, query=away_team,\n",
    "                              tweet_fields=['lang', 'created_at'], max_results=100, start_time=game_datetime_start, end_time=game_datetime_end).flatten(limit=search_limit):\n",
    "\n",
    "        if tweet.lang == 'en':\n",
    "            away_tweet_list.append(tweet.text)\n",
    "    \n",
    "    away_tweet_count = len(set(away_tweet_list))\n",
    "    \n",
    "    for tweet in clean_tweets(list(set(away_tweet_list))):\n",
    "        score = SentimentIntensityAnalyzer().polarity_scores(tweet)\n",
    "        neg = score['neg']\n",
    "        neu = score['neu']\n",
    "        pos = score['pos']\n",
    "\n",
    "        if neg > pos:\n",
    "            away_negative += 1\n",
    "        elif pos > neg:\n",
    "            away_positive += 1\n",
    "        elif pos == neg:\n",
    "            away_neutral += 1\n",
    "    \n",
    "    sentiment_results = sentiment_results.append(pd.DataFrame([[game_id, home_team, away_team, percentage(home_positive, home_tweet_count), percentage(home_negative, home_tweet_count), percentage(home_neutral, home_tweet_count),\n",
    "                                        percentage(away_positive, away_tweet_count), percentage(away_negative, away_tweet_count), percentage(away_neutral, away_tweet_count), away_tweet_count + home_tweet_count]], \n",
    "                                           columns=['gameID', 'homeTeam', 'awayTeam','homePositive', 'homeNegative', 'homeNeutral', 'awayPositive', 'awayNegative', 'awayNeutral', 'total_tweets_analyzed']))\n"
   ]
  },
  {
   "cell_type": "code",
   "execution_count": 21,
   "metadata": {},
   "outputs": [
    {
     "data": {
      "text/html": [
       "<div>\n",
       "<style scoped>\n",
       "    .dataframe tbody tr th:only-of-type {\n",
       "        vertical-align: middle;\n",
       "    }\n",
       "\n",
       "    .dataframe tbody tr th {\n",
       "        vertical-align: top;\n",
       "    }\n",
       "\n",
       "    .dataframe thead th {\n",
       "        text-align: right;\n",
       "    }\n",
       "</style>\n",
       "<table border=\"1\" class=\"dataframe\">\n",
       "  <thead>\n",
       "    <tr style=\"text-align: right;\">\n",
       "      <th></th>\n",
       "      <th>gameID</th>\n",
       "      <th>homeTeam</th>\n",
       "      <th>awayTeam</th>\n",
       "      <th>homePositive</th>\n",
       "      <th>homeNegative</th>\n",
       "      <th>homeNeutral</th>\n",
       "      <th>awayPositive</th>\n",
       "      <th>awayNegative</th>\n",
       "      <th>awayNeutral</th>\n",
       "      <th>total_tweets_analyzed</th>\n",
       "    </tr>\n",
       "  </thead>\n",
       "  <tbody>\n",
       "    <tr>\n",
       "      <th>0</th>\n",
       "      <td>BOSMIL512022</td>\n",
       "      <td>Boston Celtics</td>\n",
       "      <td>Milwaukee Bucks</td>\n",
       "      <td>38.565022</td>\n",
       "      <td>6.278027</td>\n",
       "      <td>55.156951</td>\n",
       "      <td>37.198068</td>\n",
       "      <td>2.898551</td>\n",
       "      <td>59.903382</td>\n",
       "      <td>430</td>\n",
       "    </tr>\n",
       "    <tr>\n",
       "      <th>0</th>\n",
       "      <td>BOSMIL532022</td>\n",
       "      <td>Boston Celtics</td>\n",
       "      <td>Milwaukee Bucks</td>\n",
       "      <td>54.166667</td>\n",
       "      <td>5.833333</td>\n",
       "      <td>40.000000</td>\n",
       "      <td>55.421687</td>\n",
       "      <td>3.212851</td>\n",
       "      <td>41.365462</td>\n",
       "      <td>489</td>\n",
       "    </tr>\n",
       "    <tr>\n",
       "      <th>0</th>\n",
       "      <td>MEMGS512022</td>\n",
       "      <td>Memphis Grizzlies</td>\n",
       "      <td>Golden State Warriors</td>\n",
       "      <td>48.214286</td>\n",
       "      <td>3.571429</td>\n",
       "      <td>48.214286</td>\n",
       "      <td>53.080569</td>\n",
       "      <td>1.895735</td>\n",
       "      <td>45.023697</td>\n",
       "      <td>435</td>\n",
       "    </tr>\n",
       "    <tr>\n",
       "      <th>0</th>\n",
       "      <td>MEMGS532022</td>\n",
       "      <td>Memphis Grizzlies</td>\n",
       "      <td>Golden State Warriors</td>\n",
       "      <td>37.142857</td>\n",
       "      <td>10.952381</td>\n",
       "      <td>51.904762</td>\n",
       "      <td>46.031746</td>\n",
       "      <td>8.730159</td>\n",
       "      <td>45.238095</td>\n",
       "      <td>462</td>\n",
       "    </tr>\n",
       "    <tr>\n",
       "      <th>0</th>\n",
       "      <td>MIAPHI522022</td>\n",
       "      <td>Miami Heat</td>\n",
       "      <td>Philadelphia 76ers</td>\n",
       "      <td>54.393305</td>\n",
       "      <td>7.949791</td>\n",
       "      <td>37.656904</td>\n",
       "      <td>50.490196</td>\n",
       "      <td>6.862745</td>\n",
       "      <td>42.647059</td>\n",
       "      <td>443</td>\n",
       "    </tr>\n",
       "    <tr>\n",
       "      <th>0</th>\n",
       "      <td>MIAPHI542022</td>\n",
       "      <td>Miami Heat</td>\n",
       "      <td>Philadelphia 76ers</td>\n",
       "      <td>39.700375</td>\n",
       "      <td>13.483146</td>\n",
       "      <td>46.816479</td>\n",
       "      <td>31.981982</td>\n",
       "      <td>14.864865</td>\n",
       "      <td>53.153153</td>\n",
       "      <td>489</td>\n",
       "    </tr>\n",
       "    <tr>\n",
       "      <th>0</th>\n",
       "      <td>PHODAL522022</td>\n",
       "      <td>Phoenix Suns</td>\n",
       "      <td>Dallas Mavericks</td>\n",
       "      <td>42.748092</td>\n",
       "      <td>11.068702</td>\n",
       "      <td>46.183206</td>\n",
       "      <td>56.569343</td>\n",
       "      <td>4.744526</td>\n",
       "      <td>38.686131</td>\n",
       "      <td>536</td>\n",
       "    </tr>\n",
       "    <tr>\n",
       "      <th>0</th>\n",
       "      <td>PHODAL542022</td>\n",
       "      <td>Phoenix Suns</td>\n",
       "      <td>Dallas Mavericks</td>\n",
       "      <td>49.765258</td>\n",
       "      <td>9.859155</td>\n",
       "      <td>40.375587</td>\n",
       "      <td>47.027027</td>\n",
       "      <td>7.567568</td>\n",
       "      <td>45.405405</td>\n",
       "      <td>398</td>\n",
       "    </tr>\n",
       "  </tbody>\n",
       "</table>\n",
       "</div>"
      ],
      "text/plain": [
       "         gameID           homeTeam               awayTeam  homePositive  \\\n",
       "0  BOSMIL512022     Boston Celtics        Milwaukee Bucks     38.565022   \n",
       "0  BOSMIL532022     Boston Celtics        Milwaukee Bucks     54.166667   \n",
       "0   MEMGS512022  Memphis Grizzlies  Golden State Warriors     48.214286   \n",
       "0   MEMGS532022  Memphis Grizzlies  Golden State Warriors     37.142857   \n",
       "0  MIAPHI522022         Miami Heat     Philadelphia 76ers     54.393305   \n",
       "0  MIAPHI542022         Miami Heat     Philadelphia 76ers     39.700375   \n",
       "0  PHODAL522022       Phoenix Suns       Dallas Mavericks     42.748092   \n",
       "0  PHODAL542022       Phoenix Suns       Dallas Mavericks     49.765258   \n",
       "\n",
       "   homeNegative  homeNeutral  awayPositive  awayNegative  awayNeutral  \\\n",
       "0      6.278027    55.156951     37.198068      2.898551    59.903382   \n",
       "0      5.833333    40.000000     55.421687      3.212851    41.365462   \n",
       "0      3.571429    48.214286     53.080569      1.895735    45.023697   \n",
       "0     10.952381    51.904762     46.031746      8.730159    45.238095   \n",
       "0      7.949791    37.656904     50.490196      6.862745    42.647059   \n",
       "0     13.483146    46.816479     31.981982     14.864865    53.153153   \n",
       "0     11.068702    46.183206     56.569343      4.744526    38.686131   \n",
       "0      9.859155    40.375587     47.027027      7.567568    45.405405   \n",
       "\n",
       "  total_tweets_analyzed  \n",
       "0                   430  \n",
       "0                   489  \n",
       "0                   435  \n",
       "0                   462  \n",
       "0                   443  \n",
       "0                   489  \n",
       "0                   536  \n",
       "0                   398  "
      ]
     },
     "execution_count": 21,
     "metadata": {},
     "output_type": "execute_result"
    }
   ],
   "source": [
    "sentiment_results"
   ]
  }
 ],
 "metadata": {
  "kernelspec": {
   "display_name": "Python 3",
   "language": "python",
   "name": "python3"
  },
  "language_info": {
   "codemirror_mode": {
    "name": "ipython",
    "version": 3
   },
   "file_extension": ".py",
   "mimetype": "text/x-python",
   "name": "python",
   "nbconvert_exporter": "python",
   "pygments_lexer": "ipython3",
   "version": "3.8.5"
  }
 },
 "nbformat": 4,
 "nbformat_minor": 4
}
