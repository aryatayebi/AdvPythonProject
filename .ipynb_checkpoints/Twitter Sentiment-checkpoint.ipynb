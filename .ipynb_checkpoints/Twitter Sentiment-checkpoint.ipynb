{
 "cells": [
  {
   "cell_type": "code",
   "execution_count": null,
   "metadata": {},
   "outputs": [],
   "source": [
    "# !pip install textblob\n",
    "\n",
    "# !pip install tweepy\n",
    "\n",
    "# !pip install pycountry\n",
    "\n",
    "# !pip install wordcloud \n",
    "\n",
    "# !pip install langdetect"
   ]
  },
  {
   "cell_type": "code",
   "execution_count": 1,
   "metadata": {},
   "outputs": [],
   "source": [
    "from textblob import TextBlob\n",
    "import sys\n",
    "import tweepy\n",
    "import matplotlib.pyplot as plt\n",
    "import pandas as pd\n",
    "import numpy as np\n",
    "import os\n",
    "import nltk\n",
    "import pycountry\n",
    "import re\n",
    "import string\n",
    "from wordcloud import WordCloud, STOPWORDS\n",
    "from PIL import Image\n",
    "from nltk.sentiment.vader import SentimentIntensityAnalyzer\n",
    "from langdetect import detect\n",
    "from nltk.stem import SnowballStemmer\n",
    "from nltk.sentiment.vader import SentimentIntensityAnalyzer\n",
    "from sklearn.feature_extraction.text import CountVectorizer"
   ]
  },
  {
   "cell_type": "code",
   "execution_count": null,
   "metadata": {},
   "outputs": [],
   "source": [
    "# import config\n",
    "# # put ur keys in a py file as a dictionary and import them so u can keep em secret\n",
    "# consumer_key = config.params['consumer_key'] #api key \n",
    "# consumer_secret = config.params['consumer_secret'] #api secret \n",
    "# access_token = config.params['access_token'] #access token  \n",
    "# access_token_secret = config.params['access_token_secret'] #access secret  \n",
    "# bear = config.params['bear'] #bearer token"
   ]
  },
  {
   "cell_type": "code",
   "execution_count": 2,
   "metadata": {},
   "outputs": [],
   "source": [
    "from keys import *"
   ]
  },
  {
   "cell_type": "code",
   "execution_count": 3,
   "metadata": {},
   "outputs": [
    {
     "data": {
      "text/html": [
       "<div>\n",
       "<style scoped>\n",
       "    .dataframe tbody tr th:only-of-type {\n",
       "        vertical-align: middle;\n",
       "    }\n",
       "\n",
       "    .dataframe tbody tr th {\n",
       "        vertical-align: top;\n",
       "    }\n",
       "\n",
       "    .dataframe thead th {\n",
       "        text-align: right;\n",
       "    }\n",
       "</style>\n",
       "<table border=\"1\" class=\"dataframe\">\n",
       "  <thead>\n",
       "    <tr style=\"text-align: right;\">\n",
       "      <th></th>\n",
       "      <th>0</th>\n",
       "    </tr>\n",
       "  </thead>\n",
       "  <tbody>\n",
       "    <tr>\n",
       "      <th>0</th>\n",
       "      <td>RT @BroadcastingRi: Sports Unfolded details th...</td>\n",
       "    </tr>\n",
       "    <tr>\n",
       "      <th>1</th>\n",
       "      <td>@_JenLouise_ I thought you followed the NFL......</td>\n",
       "    </tr>\n",
       "    <tr>\n",
       "      <th>2</th>\n",
       "      <td>RT @eflynt: @Amie_Just I think Tyrann at 7 is ...</td>\n",
       "    </tr>\n",
       "    <tr>\n",
       "      <th>3</th>\n",
       "      <td>RT @NFL: Saints to sign safety Tyrann Mathieu....</td>\n",
       "    </tr>\n",
       "    <tr>\n",
       "      <th>4</th>\n",
       "      <td>RT @NFL: Saints to sign safety Tyrann Mathieu....</td>\n",
       "    </tr>\n",
       "    <tr>\n",
       "      <th>...</th>\n",
       "      <td>...</td>\n",
       "    </tr>\n",
       "    <tr>\n",
       "      <th>95</th>\n",
       "      <td>@bleryx @Eric_drizzle @d59963535 @NFL @Mathieu...</td>\n",
       "    </tr>\n",
       "    <tr>\n",
       "      <th>96</th>\n",
       "      <td>https://t.co/kuW00SR7Fb https://t.co/5casWxUSlJ</td>\n",
       "    </tr>\n",
       "    <tr>\n",
       "      <th>97</th>\n",
       "      <td>RT @GBPdaily: Big happy birthday shoutout to @...</td>\n",
       "    </tr>\n",
       "    <tr>\n",
       "      <th>98</th>\n",
       "      <td>@pblvck11 That request was invalid! Make sure ...</td>\n",
       "    </tr>\n",
       "    <tr>\n",
       "      <th>99</th>\n",
       "      <td>Let’s goooooo https://t.co/rrTAxHxLAt</td>\n",
       "    </tr>\n",
       "  </tbody>\n",
       "</table>\n",
       "<p>100 rows × 1 columns</p>\n",
       "</div>"
      ],
      "text/plain": [
       "                                                    0\n",
       "0   RT @BroadcastingRi: Sports Unfolded details th...\n",
       "1   @_JenLouise_ I thought you followed the NFL......\n",
       "2   RT @eflynt: @Amie_Just I think Tyrann at 7 is ...\n",
       "3   RT @NFL: Saints to sign safety Tyrann Mathieu....\n",
       "4   RT @NFL: Saints to sign safety Tyrann Mathieu....\n",
       "..                                                ...\n",
       "95  @bleryx @Eric_drizzle @d59963535 @NFL @Mathieu...\n",
       "96    https://t.co/kuW00SR7Fb https://t.co/5casWxUSlJ\n",
       "97  RT @GBPdaily: Big happy birthday shoutout to @...\n",
       "98  @pblvck11 That request was invalid! Make sure ...\n",
       "99              Let’s goooooo https://t.co/rrTAxHxLAt\n",
       "\n",
       "[100 rows x 1 columns]"
      ]
     },
     "execution_count": 3,
     "metadata": {},
     "output_type": "execute_result"
    }
   ],
   "source": [
    "client = tweepy.Client(bearer_token=bearer_token,\\\n",
    "                       consumer_key = consumer_key,\\\n",
    "                       consumer_secret = consumer_secret,\\\n",
    "                       access_token = access_token,\\\n",
    "                       access_token_secret = access_token_secret)\n",
    "query = 'NFL'\n",
    "tweets = client.search_recent_tweets(query=query, max_results=100)\n",
    "tweet_list = []\n",
    "for tweet in tweets.data:\n",
    "    tweet_list.append(tweet.text)\n",
    "tweet_list = pd.DataFrame(tweet_list)\n",
    "tweet_list\n"
   ]
  },
  {
   "cell_type": "code",
   "execution_count": null,
   "metadata": {},
   "outputs": [],
   "source": []
  },
  {
   "cell_type": "code",
   "execution_count": null,
   "metadata": {},
   "outputs": [],
   "source": []
  },
  {
   "cell_type": "code",
   "execution_count": null,
   "metadata": {},
   "outputs": [],
   "source": []
  }
 ],
 "metadata": {
  "kernelspec": {
   "display_name": "Python 3 (ipykernel)",
   "language": "python",
   "name": "python3"
  },
  "language_info": {
   "codemirror_mode": {
    "name": "ipython",
    "version": 3
   },
   "file_extension": ".py",
   "mimetype": "text/x-python",
   "name": "python",
   "nbconvert_exporter": "python",
   "pygments_lexer": "ipython3",
   "version": "3.9.7"
  }
 },
 "nbformat": 4,
 "nbformat_minor": 4
}
