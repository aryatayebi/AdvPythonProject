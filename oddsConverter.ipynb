{
 "cells": [
  {
   "cell_type": "code",
   "execution_count": 7,
   "id": "7e8973dd",
   "metadata": {},
   "outputs": [],
   "source": [
    "### oddsConverter American to Decimal\n",
    "\n",
    "def oddsConverter(odds):\n",
    "    if odds<0:\n",
    "        return 1 - (100 / odds);\n",
    "    else:\n",
    "        return 1 + (odds / 100);"
   ]
  }
 ],
 "metadata": {
  "kernelspec": {
   "display_name": "Python 3 (ipykernel)",
   "language": "python",
   "name": "python3"
  },
  "language_info": {
   "codemirror_mode": {
    "name": "ipython",
    "version": 3
   },
   "file_extension": ".py",
   "mimetype": "text/x-python",
   "name": "python",
   "nbconvert_exporter": "python",
   "pygments_lexer": "ipython3",
   "version": "3.7.4"
  }
 },
 "nbformat": 4,
 "nbformat_minor": 5
}
